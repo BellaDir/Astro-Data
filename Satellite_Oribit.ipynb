{
  "nbformat": 4,
  "nbformat_minor": 0,
  "metadata": {
    "colab": {
      "provenance": [],
      "authorship_tag": "ABX9TyNa7aBZ84tCvRgft/A5MYYA",
      "include_colab_link": true
    },
    "kernelspec": {
      "name": "python3",
      "display_name": "Python 3"
    },
    "language_info": {
      "name": "python"
    }
  },
  "cells": [
    {
      "cell_type": "markdown",
      "metadata": {
        "id": "view-in-github",
        "colab_type": "text"
      },
      "source": [
        "<a href=\"https://colab.research.google.com/github/BellaDir/Astro-Data/blob/main/Satellite_Oribit.ipynb\" target=\"_parent\"><img src=\"https://colab.research.google.com/assets/colab-badge.svg\" alt=\"Open In Colab\"/></a>"
      ]
    },
    {
      "cell_type": "markdown",
      "source": [
        "$V = /sqrt/frac{GM}{R}$$V = /sqrt/frac{GM}{R}$, this is the equation you use to calculate orbital velocity\n",
        "\n"
      ],
      "metadata": {
        "id": "XlGaesCVQk73"
      }
    },
    {
      "cell_type": "code",
      "source": [
        "import astropy.constants as const # import a Python package to call the value of certain constants\n",
        "import astropy.units as u # import a Python package to call certain units, ex. the mass of the sun"
      ],
      "metadata": {
        "id": "j7cnGIzLRQHL"
      },
      "execution_count": 1,
      "outputs": []
    },
    {
      "cell_type": "code",
      "source": [
        "M = 1 * u.earthMass # Define M as a physical quantity with a value and a unit\n",
        "print(M.to(u.kg)) # print out M in units of kilograms"
      ],
      "metadata": {
        "colab": {
          "base_uri": "https://localhost:8080/"
        },
        "id": "ayvyp6lJQ2Ei",
        "outputId": "8c8c831b-63c7-452e-9900-cd2c45de8878"
      },
      "execution_count": 2,
      "outputs": [
        {
          "output_type": "stream",
          "name": "stdout",
          "text": [
            "5.972167867791379e+24 kg\n"
          ]
        }
      ]
    },
    {
      "cell_type": "code",
      "source": [
        "G = const.G # Define G as the gravitational constant\n",
        "print(G.si) # print out G in SI units"
      ],
      "metadata": {
        "colab": {
          "base_uri": "https://localhost:8080/"
        },
        "id": "hnSyLphpR1FG",
        "outputId": "7f809245-6037-4b27-c599-8c124341334e"
      },
      "execution_count": 3,
      "outputs": [
        {
          "output_type": "stream",
          "name": "stdout",
          "text": [
            "  Name   = Gravitational constant\n",
            "  Value  = 6.6743e-11\n",
            "  Uncertainty  = 1.5e-15\n",
            "  Unit  = m3 / (kg s2)\n",
            "  Reference = CODATA 2018\n"
          ]
        }
      ]
    },
    {
      "cell_type": "code",
      "source": [
        "R = 1 * 4150 * u.km # Define R as the radius of the satellite's orbit around the Earth in km.\n",
        "print(R) # print out the radius of the satellite's orbit"
      ],
      "metadata": {
        "colab": {
          "base_uri": "https://localhost:8080/"
        },
        "id": "WnWA6IywSbSo",
        "outputId": "9dc5d42f-9885-408a-e1a1-92f4b7724671"
      },
      "execution_count": 12,
      "outputs": [
        {
          "output_type": "stream",
          "name": "stdout",
          "text": [
            "4150.0 km\n"
          ]
        }
      ]
    },
    {
      "cell_type": "code",
      "source": [
        "import numpy as np # import numpy package which allows us to condut mathematical operations for the defined quantities"
      ],
      "metadata": {
        "id": "4r2hnzguSAKE"
      },
      "execution_count": 4,
      "outputs": []
    },
    {
      "cell_type": "code",
      "source": [
        "V = np.sqrt(G * M / R) # Calculating orbital velocity based on the equation at the beginning\n",
        "print(V.to(u.km / u.s)) # Print out orbital velocity of a satellite around Earth"
      ],
      "metadata": {
        "colab": {
          "base_uri": "https://localhost:8080/"
        },
        "id": "O_EnvEsVQnVT",
        "outputId": "234896c0-4f8f-4665-9147-9af6e4620096"
      },
      "execution_count": 13,
      "outputs": [
        {
          "output_type": "stream",
          "name": "stdout",
          "text": [
            "9.800422907029395 km / s\n"
          ]
        }
      ]
    }
  ]
}