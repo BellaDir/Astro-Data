{
  "nbformat": 4,
  "nbformat_minor": 0,
  "metadata": {
    "colab": {
      "provenance": [],
      "authorship_tag": "ABX9TyO1R1rnWpvMdBZ5s7f/p1TY",
      "include_colab_link": true
    },
    "kernelspec": {
      "name": "python3",
      "display_name": "Python 3"
    },
    "language_info": {
      "name": "python"
    }
  },
  "cells": [
    {
      "cell_type": "markdown",
      "metadata": {
        "id": "view-in-github",
        "colab_type": "text"
      },
      "source": [
        "<a href=\"https://colab.research.google.com/github/BellaDir/Astro-Data/blob/main/Age_of_the_Universe.ipynb\" target=\"_parent\"><img src=\"https://colab.research.google.com/assets/colab-badge.svg\" alt=\"Open In Colab\"/></a>"
      ]
    },
    {
      "cell_type": "code",
      "source": [
        "# import necessary units and constants into the Python script\n",
        "import numpy as np\n",
        "import astropy.constants as ac\n",
        "import astropy.units as u"
      ],
      "metadata": {
        "id": "KgPs433M_UVM"
      },
      "execution_count": null,
      "outputs": []
    },
    {
      "cell_type": "code",
      "source": [
        "Hubble_constant = 70 * u.km / u.s / u.Mpc # define the Hubble constant"
      ],
      "metadata": {
        "id": "kx5RFMQC_YB_"
      },
      "execution_count": null,
      "outputs": []
    },
    {
      "cell_type": "code",
      "source": [
        "Hubble_constant.to(u.km / u.s / u.pc) # convert the units of the Hubble constant from km/s Mpc to km/s pc"
      ],
      "metadata": {
        "colab": {
          "base_uri": "https://localhost:8080/",
          "height": 40
        },
        "id": "Q60OR5a6_rBc",
        "outputId": "b81aca57-c3e6-4361-8450-bd5ef2477fa8"
      },
      "execution_count": null,
      "outputs": [
        {
          "output_type": "execute_result",
          "data": {
            "text/plain": [
              "<Quantity 7.e-05 km / (pc s)>"
            ],
            "text/latex": "$7 \\times 10^{-5} \\; \\mathrm{\\frac{km}{pc\\,s}}$"
          },
          "metadata": {},
          "execution_count": 3
        }
      ]
    },
    {
      "cell_type": "code",
      "source": [
        "Hubble_time = 1 / Hubble_constant # calculate time using the defined Hubble constant"
      ],
      "metadata": {
        "id": "ZB__-Y0E_dha"
      },
      "execution_count": null,
      "outputs": []
    },
    {
      "cell_type": "code",
      "source": [
        "age_of_universe = Hubble_time.to(u.year) # convert the calculated age of the universe to years"
      ],
      "metadata": {
        "id": "7A4tj2D2AV2o"
      },
      "execution_count": null,
      "outputs": []
    },
    {
      "cell_type": "code",
      "source": [
        "print(f\"The age of the Universe is {age_of_universe: .2f}\") # print the age of the Universe"
      ],
      "metadata": {
        "colab": {
          "base_uri": "https://localhost:8080/"
        },
        "id": "X8ulIQWRAhYD",
        "outputId": "196a3069-32dc-406a-93bc-6cd8cd039b03"
      },
      "execution_count": null,
      "outputs": [
        {
          "output_type": "stream",
          "name": "stdout",
          "text": [
            "The age of the Universe is  13968460309.73 yr\n"
          ]
        }
      ]
    }
  ]
}