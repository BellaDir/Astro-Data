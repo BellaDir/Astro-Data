{
  "nbformat": 4,
  "nbformat_minor": 0,
  "metadata": {
    "colab": {
      "provenance": [],
      "toc_visible": true,
      "authorship_tag": "ABX9TyPXWp10KNhv6IZ3KorioLmi",
      "include_colab_link": true
    },
    "kernelspec": {
      "name": "python3",
      "display_name": "Python 3"
    },
    "language_info": {
      "name": "python"
    }
  },
  "cells": [
    {
      "cell_type": "markdown",
      "metadata": {
        "id": "view-in-github",
        "colab_type": "text"
      },
      "source": [
        "<a href=\"https://colab.research.google.com/github/BellaDir/Astro-Data/blob/main/Schwarzschild_Radius.ipynb\" target=\"_parent\"><img src=\"https://colab.research.google.com/assets/colab-badge.svg\" alt=\"Open In Colab\"/></a>"
      ]
    },
    {
      "cell_type": "markdown",
      "source": [
        "$R = (G * M) / c^2 $, this is the equation you use to calculate  Schwarzschild radius"
      ],
      "metadata": {
        "id": "5h5hEC2EJMbG"
      }
    },
    {
      "cell_type": "code",
      "source": [
        "import astropy.constants as const # import a Python package to call the value of certain constants\n",
        "import astropy.units as u # import a Python package to call certain units, ex. the mass of the sun"
      ],
      "metadata": {
        "id": "1tMwFqVHJiYY"
      },
      "execution_count": 1,
      "outputs": []
    },
    {
      "cell_type": "code",
      "source": [
        "M = 1 * u.solMass # Define M as a physical quantity with a value and a unit\n",
        "print(M.to(u.kg)) # print out M in units of kilograms"
      ],
      "metadata": {
        "colab": {
          "base_uri": "https://localhost:8080/"
        },
        "id": "1VFaoMDmJna3",
        "outputId": "eb4189d4-17e1-4605-8092-e2ed126fe963"
      },
      "execution_count": 2,
      "outputs": [
        {
          "output_type": "stream",
          "name": "stdout",
          "text": [
            "1.988409870698051e+30 kg\n"
          ]
        }
      ]
    },
    {
      "cell_type": "code",
      "source": [
        "c = 1 * 299792458 * u.m / u.s # Define the speed of light as a physical quantity with a value and a unit\n",
        "print(c) # print out c in units of meters per second"
      ],
      "metadata": {
        "colab": {
          "base_uri": "https://localhost:8080/"
        },
        "id": "Ycu2w1Y-Jsk9",
        "outputId": "6d69741b-748a-41de-b829-24638edfb18c"
      },
      "execution_count": 11,
      "outputs": [
        {
          "output_type": "stream",
          "name": "stdout",
          "text": [
            "299792458.0 m / s\n"
          ]
        }
      ]
    },
    {
      "cell_type": "code",
      "source": [
        "G = const.G # Define G as the gravitational constant\n",
        "print(G.si) # print out G in SI units"
      ],
      "metadata": {
        "colab": {
          "base_uri": "https://localhost:8080/"
        },
        "id": "G6UGHcmUJ81l",
        "outputId": "ae7fafbb-bed3-4c70-d138-753deb4cf6f1"
      },
      "execution_count": 4,
      "outputs": [
        {
          "output_type": "stream",
          "name": "stdout",
          "text": [
            "  Name   = Gravitational constant\n",
            "  Value  = 6.6743e-11\n",
            "  Uncertainty  = 1.5e-15\n",
            "  Unit  = m3 / (kg s2)\n",
            "  Reference = CODATA 2018\n"
          ]
        }
      ]
    },
    {
      "cell_type": "code",
      "source": [
        "import numpy as np # import numpy package which allows us to condut mathematical operations for the defined quantities"
      ],
      "metadata": {
        "id": "g0yj0NKXKS1F"
      },
      "execution_count": 5,
      "outputs": []
    },
    {
      "cell_type": "code",
      "source": [
        "R = ((G * M) / c**2)  # Calculating the Schwarzschild radius of a blackhole based on the equation at the beginning\n",
        "print(R.to(u.km)) # Print out Schwarzschild radius of the blackhole"
      ],
      "metadata": {
        "colab": {
          "base_uri": "https://localhost:8080/"
        },
        "id": "JGcmObBOKTCU",
        "outputId": "cd04553b-663b-45f1-9561-2288fc95ae05"
      },
      "execution_count": 12,
      "outputs": [
        {
          "output_type": "stream",
          "name": "stdout",
          "text": [
            "1.476625038050125 km\n"
          ]
        }
      ]
    }
  ]
}