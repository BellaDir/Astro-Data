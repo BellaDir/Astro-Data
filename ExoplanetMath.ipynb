{
  "nbformat": 4,
  "nbformat_minor": 0,
  "metadata": {
    "colab": {
      "provenance": [],
      "authorship_tag": "ABX9TyN11ws8eh4vMgBvQ6CARmwc",
      "include_colab_link": true
    },
    "kernelspec": {
      "name": "python3",
      "display_name": "Python 3"
    },
    "language_info": {
      "name": "python"
    }
  },
  "cells": [
    {
      "cell_type": "markdown",
      "metadata": {
        "id": "view-in-github",
        "colab_type": "text"
      },
      "source": [
        "<a href=\"https://colab.research.google.com/github/BellaDir/Astro-Data/blob/main/ExoplanetMath.ipynb\" target=\"_parent\"><img src=\"https://colab.research.google.com/assets/colab-badge.svg\" alt=\"Open In Colab\"/></a>"
      ]
    },
    {
      "cell_type": "markdown",
      "source": [
        " age, structure, life, mass, size, chemical composition -> life, mass, size -> structure"
      ],
      "metadata": {
        "id": "YUHxlmcL4y3z"
      }
    },
    {
      "cell_type": "markdown",
      "source": [
        "$\\delta = (\\frac{R_{planet}}{R_{star}})^2$, to solve for $R_{planet}$, $R_{planet} = \\sqrt\\delta \\times R_{star}$"
      ],
      "metadata": {
        "id": "3iZw5qMn5lDa"
      }
    },
    {
      "cell_type": "code",
      "source": [
        "import astropy.units as u # Imports the units package from the astropy library\n",
        "import astropy.constants as c # Imports the constants package from the astropy library"
      ],
      "metadata": {
        "id": "5t4V8lyW6GO7"
      },
      "execution_count": 1,
      "outputs": []
    },
    {
      "cell_type": "code",
      "source": [
        "delta_earth_sun = (u.earthRad/u.solRad)**2 # Calculates the squared ratio of the Earth and Sun's radius"
      ],
      "metadata": {
        "id": "VokZXZfn6NI7"
      },
      "execution_count": 2,
      "outputs": []
    },
    {
      "cell_type": "code",
      "source": [
        "print(delta_earth_sun.decompose()) # Simplify and print the squared ratio of the Earth and Sun's radius"
      ],
      "metadata": {
        "colab": {
          "base_uri": "https://localhost:8080/"
        },
        "id": "AITpomCf6R0I",
        "outputId": "1de7e6d2-5749-488b-b0a8-91790f9afdf9"
      },
      "execution_count": 3,
      "outputs": [
        {
          "output_type": "stream",
          "name": "stdout",
          "text": [
            "8.40502e-05\n"
          ]
        }
      ]
    },
    {
      "cell_type": "markdown",
      "source": [
        "$v_{orb} = \\sqrt\\frac{GM}{a}$"
      ],
      "metadata": {
        "id": "2AHaUSiL9wE9"
      }
    },
    {
      "cell_type": "code",
      "source": [
        "import numpy as np # Imports numpy library\n",
        "v_orb_earth = np.sqrt(c.G*u.solMass/u.AU) # Calculates Earth's orbital velocity\n",
        "print(v_orb_earth.decompose()) # Simplify and print Earth's orbital velocity in m/s"
      ],
      "metadata": {
        "colab": {
          "base_uri": "https://localhost:8080/"
        },
        "id": "Dlh9QFIn9NnG",
        "outputId": "169dc326-009e-44b2-c170-4549591d1e8c"
      },
      "execution_count": 4,
      "outputs": [
        {
          "output_type": "stream",
          "name": "stdout",
          "text": [
            "29784.691829676933 m / s\n"
          ]
        }
      ]
    },
    {
      "cell_type": "markdown",
      "source": [
        "Since $m_p\\cdot v_p = m_s\\cdot v_s$, $v_s = \\frac{m_p}{m_s} \\times v_p$"
      ],
      "metadata": {
        "id": "3_crln7e9xDq"
      }
    },
    {
      "cell_type": "code",
      "source": [
        "v_sun = u.earthMass / u.solMass * v_orb_earth # Calculates the reflex velocity of the Sun due to Earth\n",
        "print(v_sun.decompose()) # Simplify and print the reflex velocity of the Sun in m/s"
      ],
      "metadata": {
        "colab": {
          "base_uri": "https://localhost:8080/"
        },
        "id": "5-CjDJPZ9e-6",
        "outputId": "02cbe755-3da6-4cdb-d0f3-3ac599d43647"
      },
      "execution_count": 5,
      "outputs": [
        {
          "output_type": "stream",
          "name": "stdout",
          "text": [
            "0.08945800466923791 m / s\n"
          ]
        }
      ]
    },
    {
      "cell_type": "markdown",
      "source": [
        "$v_s = 0.09\\ m/s (\\frac{m_p}{m_\\oplus})(\\frac{P}{1 yr})^{-1/3}$"
      ],
      "metadata": {
        "id": "u7gWwSfzBx4F"
      }
    },
    {
      "cell_type": "code",
      "source": [
        "v_s_jupiter = 0.09 * u.m / u.s * (u.jupiterMass / u.earthMass) * (11.9 * u.yr / u.yr)**(-1.0/3.0) # Calculates the orbital velocity of Jupiter\n",
        "print(v_s_jupiter.to(u.m / u.s)) # Convert and print Jupiter's orbital velocityin m/s"
      ],
      "metadata": {
        "colab": {
          "base_uri": "https://localhost:8080/"
        },
        "id": "4y4GRj0vBvmf",
        "outputId": "93775cec-c8cd-4a75-c991-61b4dc904e41"
      },
      "execution_count": 6,
      "outputs": [
        {
          "output_type": "stream",
          "name": "stdout",
          "text": [
            "12.529091077198903 m / s\n"
          ]
        }
      ]
    },
    {
      "cell_type": "code",
      "source": [
        "(u.jupiterMass / u.earthMass).decompose() # Simplify and print the mass ratio of Jupiter to Earth"
      ],
      "metadata": {
        "colab": {
          "base_uri": "https://localhost:8080/",
          "height": 37
        },
        "id": "yNkzF8ezCiK0",
        "outputId": "42e151ec-7dca-4575-ebe3-7a143f3edd3b"
      },
      "execution_count": 7,
      "outputs": [
        {
          "output_type": "execute_result",
          "data": {
            "text/plain": [
              "Unit(dimensionless with a scale of 317.8284065946748)"
            ],
            "text/latex": "$\\mathrm{317.82841}$"
          },
          "metadata": {},
          "execution_count": 7
        }
      ]
    },
    {
      "cell_type": "code",
      "source": [
        "rho_earth = u.earthMass / (4 * np.pi * u.earthRad**3 / 3.0) # Compute Earth's avereage density\n",
        "print(rho_earth.to(u.g / u.cm**3)) # Convert and print Earth's avereage density in g/cm^3"
      ],
      "metadata": {
        "colab": {
          "base_uri": "https://localhost:8080/"
        },
        "id": "q378e-81C8Oq",
        "outputId": "ce94d469-8b1a-4198-b581-402519f4f536"
      },
      "execution_count": 8,
      "outputs": [
        {
          "output_type": "stream",
          "name": "stdout",
          "text": [
            "5.495021865555213 g / cm3\n"
          ]
        }
      ]
    }
  ]
}