{
  "cells": [
    {
      "cell_type": "markdown",
      "metadata": {
        "id": "view-in-github",
        "colab_type": "text"
      },
      "source": [
        "<a href=\"https://colab.research.google.com/github/BellaDir/Astro-Data/blob/main/Earth_and_Jupiter_Around_the_Sun.ipynb\" target=\"_parent\"><img src=\"https://colab.research.google.com/assets/colab-badge.svg\" alt=\"Open In Colab\"/></a>"
      ]
    },
    {
      "cell_type": "markdown",
      "source": [
        "$V = /sqrt/frac{GM}{R}$, this is the equation you use to calculate orbital velocity"
      ],
      "metadata": {
        "id": "i6gBGnPk49wz"
      }
    },
    {
      "cell_type": "code",
      "source": [
        "import astropy.constants as const # import a Python package to call the value of certain constants\n",
        "import astropy.units as u # import a Python package to call certain units, ex. the mass of the sun"
      ],
      "metadata": {
        "id": "eYKa_NlY5IiU"
      },
      "execution_count": null,
      "outputs": []
    },
    {
      "cell_type": "code",
      "source": [
        "M = 1 * u.solMass # Define M as a physical quantity with a value and a unit\n",
        "print(M.to(u.kg)) # print out M in units of kilograms"
      ],
      "metadata": {
        "id": "wjvi_XO26UCK",
        "outputId": "66665617-ad92-4a44-89dd-1fab033c7bb3",
        "colab": {
          "base_uri": "https://localhost:8080/"
        }
      },
      "execution_count": null,
      "outputs": [
        {
          "output_type": "stream",
          "name": "stdout",
          "text": [
            "1.988409870698051e+30 kg\n"
          ]
        }
      ]
    },
    {
      "cell_type": "code",
      "source": [
        "R = 1 * u.au # Define R as the radius of the Earth's orbit around the Sun in astronomical units.\n",
        "print(R.to(u.km)) # print out the radius of the Earth's orbit"
      ],
      "metadata": {
        "id": "o7_dLXal6roG",
        "outputId": "31f94294-ee51-41dd-d6d9-60d89a41cee2",
        "colab": {
          "base_uri": "https://localhost:8080/"
        }
      },
      "execution_count": null,
      "outputs": [
        {
          "output_type": "stream",
          "name": "stdout",
          "text": [
            "149597870.7 km\n"
          ]
        }
      ]
    },
    {
      "cell_type": "code",
      "source": [
        "G = const.G # Define G as the gravitational constant\n",
        "print(G.si) # print out G in SI units"
      ],
      "metadata": {
        "id": "pwDzsXVk7kMX",
        "outputId": "ba2a2bc4-db6b-4076-8882-a074c963a67c",
        "colab": {
          "base_uri": "https://localhost:8080/"
        }
      },
      "execution_count": null,
      "outputs": [
        {
          "output_type": "stream",
          "name": "stdout",
          "text": [
            "  Name   = Gravitational constant\n",
            "  Value  = 6.6743e-11\n",
            "  Uncertainty  = 1.5e-15\n",
            "  Unit  = m3 / (kg s2)\n",
            "  Reference = CODATA 2018\n"
          ]
        }
      ]
    },
    {
      "cell_type": "code",
      "source": [
        "import numpy as np # import numpy package which allows us to condut mathematical operations for the defined quantities"
      ],
      "metadata": {
        "id": "C5HMKOEI8sxC"
      },
      "execution_count": null,
      "outputs": []
    },
    {
      "cell_type": "code",
      "source": [
        "V = np.sqrt(G * M / R) # Calculating orbital velocity based on the equation at the beginning\n",
        "print(V.to(u.km / u.s)) # Print out orbital velocity of the Earth around the Sun"
      ],
      "metadata": {
        "id": "FVsIW3fl8x5N",
        "outputId": "2bd97286-cf8f-4743-c964-94e0c093c339",
        "colab": {
          "base_uri": "https://localhost:8080/"
        }
      },
      "execution_count": null,
      "outputs": [
        {
          "output_type": "stream",
          "name": "stdout",
          "text": [
            "29.784691829676934 km / s\n"
          ]
        }
      ]
    },
    {
      "cell_type": "code",
      "source": [
        "import astropy.constants as const # import a Python package to call the value of certain constants\n",
        "import astropy.units as u # import a Python package to call certain units, ex. the mass of the sun"
      ],
      "metadata": {
        "id": "DWmFoojVHF1o"
      },
      "execution_count": null,
      "outputs": []
    },
    {
      "cell_type": "code",
      "source": [
        "import numpy as np # import numpy package which allows us to condut mathematical operations for the defined quantities"
      ],
      "metadata": {
        "id": "vX0rd9KYxhLt"
      },
      "execution_count": null,
      "outputs": []
    },
    {
      "cell_type": "code",
      "source": [
        "G = const.G # Define G as the gravitational constant\n",
        "print(G.si) # print out G in SI units"
      ],
      "metadata": {
        "colab": {
          "base_uri": "https://localhost:8080/"
        },
        "id": "CtY8hDo3HYzZ",
        "outputId": "87eebf1c-0c41-40ec-ba6a-f0ef1edd9c3b"
      },
      "execution_count": null,
      "outputs": [
        {
          "output_type": "stream",
          "name": "stdout",
          "text": [
            "  Name   = Gravitational constant\n",
            "  Value  = 6.6743e-11\n",
            "  Uncertainty  = 1.5e-15\n",
            "  Unit  = m3 / (kg s2)\n",
            "  Reference = CODATA 2018\n"
          ]
        }
      ]
    },
    {
      "cell_type": "code",
      "source": [
        "M = 1 * u.solMass # Define M as a physical quantity with a value and a unit\n",
        "print(M.to(u.kg)) # print out M in units of kilograms"
      ],
      "metadata": {
        "colab": {
          "base_uri": "https://localhost:8080/"
        },
        "id": "wa_5qb_UHlmg",
        "outputId": "8b80cf94-8acb-45b2-e42c-0f7b1579c683"
      },
      "execution_count": null,
      "outputs": [
        {
          "output_type": "stream",
          "name": "stdout",
          "text": [
            "1.988409870698051e+30 kg\n"
          ]
        }
      ]
    },
    {
      "cell_type": "code",
      "source": [
        "R_jupiter = 5.2 * u.au # This is the orbital radius of Jupiter"
      ],
      "metadata": {
        "id": "E-n9gjCd_w1b"
      },
      "execution_count": null,
      "outputs": []
    },
    {
      "cell_type": "code",
      "source": [
        "V_jupiter = np.sqrt(G * M / R_jupiter) # Calculating orbital velocity based on the equation at the beginning\n",
        "print(V_jupiter.to(u.km / u.s)) # Print out orbital velocity of Jupiter around the Sun"
      ],
      "metadata": {
        "colab": {
          "base_uri": "https://localhost:8080/"
        },
        "id": "QPj0drUF_9KC",
        "outputId": "d8d504d2-f4ad-44a7-9bb8-abf0b6f45c11"
      },
      "execution_count": null,
      "outputs": [
        {
          "output_type": "stream",
          "name": "stdout",
          "text": [
            "13.061451410903354 km / s\n"
          ]
        }
      ]
    }
  ],
  "metadata": {
    "colab": {
      "provenance": [],
      "include_colab_link": true
    },
    "kernelspec": {
      "display_name": "Python 3",
      "name": "python3"
    }
  },
  "nbformat": 4,
  "nbformat_minor": 0
}